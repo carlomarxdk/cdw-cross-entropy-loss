{
 "cells": [
  {
   "cell_type": "code",
   "execution_count": 1,
   "metadata": {},
   "outputs": [],
   "source": [
    "import sys\n",
    "sys.path.insert(0, '..')\n",
    "import numpy as np\n",
    "import pandas as pd \n",
    "from sklearn.model_selection import train_test_split\n",
    "import pytorch_lightning as pl\n",
    "import torch\n",
    "import torch.nn as nn\n",
    "import torch.nn.functional as F\n",
    "from torch.utils.data import DataLoader, Dataset\n",
    "from cdw_cross_entropy_loss import CDW_CELoss\n",
    "from torchmetrics.classification import MulticlassCohenKappa"
   ]
  },
  {
   "cell_type": "markdown",
   "metadata": {},
   "source": [
    "# Data\n",
    "We are going to work with the Wine Quality Dataset: [CSV file](https://archive.ics.uci.edu/ml/machine-learning-databases/wine-quality/winequality-white.csv)."
   ]
  },
  {
   "cell_type": "code",
   "execution_count": 2,
   "metadata": {},
   "outputs": [],
   "source": [
    "class WineDataset(Dataset):\n",
    "    def __init__(self, root_dir: str, \n",
    "                 transform=None, \n",
    "                 target_transform=None):\n",
    "        self.root_dir = root_dir\n",
    "        self.df = pd.read_csv(self.root_dir, sep=',')\n",
    "        self.root_dir = root_dir\n",
    "        self.transform = transform\n",
    "        self.target_transform = target_transform\n",
    "\n",
    "        self.targets = self.df['quality'].values\n",
    "        self.samples = self.df.drop('quality', axis=1).values\n",
    "        \n",
    "        if self.target_transform is not None:\n",
    "            self.targets = self.target_transform(self.targets)\n",
    "\n",
    "    def __len__(self):\n",
    "        return len(self.df)\n",
    "    \n",
    "    def __getitem__(self, idx):\n",
    "        target = self.targets[idx]\n",
    "        sample = self.samples[idx]\n",
    "    \n",
    "        if self.transform is not None:\n",
    "            sample = self.transform(sample)\n",
    "        return sample, target"
   ]
  },
  {
   "cell_type": "code",
   "execution_count": 3,
   "metadata": {},
   "outputs": [],
   "source": [
    "class WineDataModule(pl.LightningDataModule):\n",
    "    def __init__(self, batch_size: int = 4, num_workers: int = 4):\n",
    "        super().__init__()\n",
    "        self.batch_size = batch_size\n",
    "        self.num_workers = num_workers\n",
    "        \n",
    "    def prepare_data(self) -> None:\n",
    "        df = pd.read_csv('https://archive.ics.uci.edu/ml/machine-learning-databases/wine-quality/winequality-white.csv', \n",
    "                 sep=\";\")\n",
    "        ## Create Test and Train Set\n",
    "        train, test = train_test_split(df, test_size=0.3, random_state=42)\n",
    "        train.to_csv('data/wine_train.csv', index=False)\n",
    "        test.to_csv('data/wine_test.csv', index=False)\n",
    "    def setup(self, stage):\n",
    "        self.train = WineDataset('data/wine_train.csv', target_transform = lambda x: x - 3)\n",
    "        self.test  = WineDataset('data/wine_test.csv', target_transform = lambda x: x - 3)\n",
    "    def train_dataloader(self):\n",
    "        return DataLoader(self.train, batch_size=self.batch_size, num_workers=self.num_workers, shuffle=True)\n",
    "    def val_dataloader(self):\n",
    "        return DataLoader(self.test, batch_size=self.batch_size, num_workers=self.num_workers)\n",
    "    def test_dataloader(self):\n",
    "        return DataLoader(self.test, batch_size=self.batch_size, num_workers=self.num_workers)\n"
   ]
  },
  {
   "cell_type": "markdown",
   "metadata": {},
   "source": [
    "Initialize the model"
   ]
  },
  {
   "cell_type": "code",
   "execution_count": 4,
   "metadata": {},
   "outputs": [],
   "source": [
    "dataloader = WineDataModule(batch_size=32)\n",
    "dataloader.prepare_data()\n",
    "dataloader.setup(stage=\"fit\")"
   ]
  },
  {
   "cell_type": "markdown",
   "metadata": {},
   "source": [
    "## Model"
   ]
  },
  {
   "cell_type": "code",
   "execution_count": 5,
   "metadata": {},
   "outputs": [],
   "source": [
    "class SimpleNN(nn.Module):\n",
    "    def __init__(self, input_dim, output_dim):\n",
    "        super(SimpleNN, self).__init__()\n",
    "        self.fc1 = nn.Linear(input_dim, 64)\n",
    "        self.fc2 = nn.Linear(64, 32)\n",
    "        self.fc3 = nn.Linear(32, output_dim)\n",
    "        self.gelu = nn.GELU()\n",
    "        self.dropout = nn.Dropout(0.2)\n",
    "    def forward(self, x):\n",
    "        x = self.dropout(self.fc1(x))\n",
    "        x = self.gelu(x)\n",
    "        x = self.dropout(self.fc2(x))\n",
    "        x = self.gelu(x)\n",
    "        x = self.fc3(x)\n",
    "        return x"
   ]
  },
  {
   "cell_type": "markdown",
   "metadata": {},
   "source": [
    "## Simple Cross-Entropy"
   ]
  },
  {
   "cell_type": "code",
   "execution_count": 6,
   "metadata": {},
   "outputs": [],
   "source": [
    "device = torch.device('cuda' if torch.cuda.is_available() else 'cpu')\n",
    "model = SimpleNN(input_dim=11, output_dim=7).to(device) ## 11 features, and 7 classes\n",
    "optim = torch.optim.AdamW(model.parameters(), lr=1e-3)\n",
    "loss = nn.CrossEntropyLoss().to(device)\n",
    "\n",
    "kappa_train = MulticlassCohenKappa(num_classes=7, weights=\"quadratic\").to(device)\n",
    "kappa_test = MulticlassCohenKappa(num_classes=7, weights=\"quadratic\").to(device)\n",
    "\n",
    "\n",
    "NUM_EPOCHS = 50"
   ]
  },
  {
   "cell_type": "code",
   "execution_count": 7,
   "metadata": {},
   "outputs": [
    {
     "name": "stdout",
     "output_type": "stream",
     "text": [
      "Epoch 0: 0.03 Kappa Score^2\n",
      "Epoch 5: 0.01 Kappa Score^2\n",
      "Epoch 10: 0.01 Kappa Score^2\n",
      "Epoch 15: 0.03 Kappa Score^2\n",
      "Epoch 20: 0.05 Kappa Score^2\n",
      "Epoch 25: 0.07 Kappa Score^2\n",
      "Epoch 30: 0.09 Kappa Score^2\n",
      "Epoch 35: 0.10 Kappa Score^2\n",
      "Epoch 40: 0.12 Kappa Score^2\n",
      "Epoch 45: 0.13 Kappa Score^2\n"
     ]
    }
   ],
   "source": [
    "for i in range(NUM_EPOCHS):\n",
    "    for batch in dataloader.train_dataloader():\n",
    "        x, y = batch\n",
    "        \n",
    "        y_hat = model(x.to(device).float())\n",
    "        pred = torch.argmax(y_hat, dim=1)\n",
    "        kappa_train.update(pred, y.to(device))\n",
    "        l = loss(y_hat, y.to(device))\n",
    "        l.backward()\n",
    "        optim.step()\n",
    "        optim.zero_grad()\n",
    "    if i%5 == 0:\n",
    "        print(\"Epoch %s: %.2f Kappa Score^2\" %(i, kappa_train.compute()))\n"
   ]
  },
  {
   "cell_type": "code",
   "execution_count": 8,
   "metadata": {},
   "outputs": [
    {
     "name": "stdout",
     "output_type": "stream",
     "text": [
      "Test Kappa Score^2: 0.19\n"
     ]
    }
   ],
   "source": [
    "model.eval()\n",
    "for batch in dataloader.test_dataloader():\n",
    "    x, y = batch\n",
    "    y_hat = model(x.to(device).float())\n",
    "    pred = torch.argmax(y_hat, dim=1)\n",
    "    kappa_test.update(pred, y.to(device))\n",
    "print(\"Test Kappa Score^2: %.2f\" %kappa_test.compute())"
   ]
  },
  {
   "cell_type": "markdown",
   "metadata": {},
   "source": [
    "## CDW Loss \n",
    "Class distance weighted loss with the cross entropy\n",
    "\n",
    "We found out that CDW Loss alone does not work well, it works only as a suplement to the CE Loss (see below)."
   ]
  },
  {
   "cell_type": "code",
   "execution_count": 6,
   "metadata": {},
   "outputs": [],
   "source": [
    "device = torch.device('cuda' if torch.cuda.is_available() else 'cpu')\n",
    "model = SimpleNN(input_dim=11, output_dim=7).to(device) ## 11 features, and 7 classes\n",
    "optim = torch.optim.AdamW(model.parameters(), lr=1e-3)\n",
    "loss_cdw = CDW_CELoss(num_classes=7,\n",
    "                  transform=\"huber\",\n",
    "                  alpha=1.5).to(device)\n",
    "loss = nn.CrossEntropyLoss().to(device)\n",
    "\n",
    "\n",
    "kappa_train = MulticlassCohenKappa(num_classes=7, weights=\"quadratic\").to(device)\n",
    "kappa_test = MulticlassCohenKappa(num_classes=7, weights=\"quadratic\").to(device)\n",
    "\n",
    "\n",
    "NUM_EPOCHS = 50"
   ]
  },
  {
   "cell_type": "code",
   "execution_count": 7,
   "metadata": {},
   "outputs": [
    {
     "name": "stdout",
     "output_type": "stream",
     "text": [
      "Epoch 0: 0.00 Kappa Score^2\n",
      "Epoch 5: 0.05 Kappa Score^2\n",
      "Epoch 10: 0.07 Kappa Score^2\n",
      "Epoch 15: 0.09 Kappa Score^2\n",
      "Epoch 20: 0.11 Kappa Score^2\n",
      "Epoch 25: 0.13 Kappa Score^2\n",
      "Epoch 30: 0.14 Kappa Score^2\n",
      "Epoch 35: 0.16 Kappa Score^2\n",
      "Epoch 40: 0.18 Kappa Score^2\n",
      "Epoch 45: 0.19 Kappa Score^2\n"
     ]
    }
   ],
   "source": [
    "for i in range(NUM_EPOCHS):\n",
    "    for batch in dataloader.train_dataloader():\n",
    "        x, y = batch\n",
    "        \n",
    "        y_hat = model(x.to(device).float())\n",
    "        probs = F.softmax(y_hat, dim=1)\n",
    "        pred = torch.argmax(y_hat, dim=1)\n",
    "        kappa_train.update(pred, y.to(device))\n",
    "        l = 0.2 * loss_cdw(probs, y.to(device)) + 0.8 * loss(y_hat, y.to(device))\n",
    "        l.backward()\n",
    "        optim.step()\n",
    "        optim.zero_grad()\n",
    "    if i%5 == 0:\n",
    "        print(\"Epoch %s: %.2f Kappa Score^2\" %(i, kappa_train.compute()))"
   ]
  },
  {
   "cell_type": "code",
   "execution_count": 8,
   "metadata": {},
   "outputs": [
    {
     "name": "stdout",
     "output_type": "stream",
     "text": [
      "Test Kappa Score^2: 0.32\n"
     ]
    }
   ],
   "source": [
    "model.eval()\n",
    "for batch in dataloader.test_dataloader():\n",
    "    x, y = batch\n",
    "    y_hat = model(x.to(device).float())\n",
    "    pred = torch.argmax(y_hat, dim=1)\n",
    "    kappa_test.update(pred, y.to(device))\n",
    "print(\"Test Kappa Score^2: %.2f\" %kappa_test.compute())"
   ]
  },
  {
   "cell_type": "code",
   "execution_count": null,
   "metadata": {},
   "outputs": [],
   "source": []
  }
 ],
 "metadata": {
  "kernelspec": {
   "display_name": "torch",
   "language": "python",
   "name": "python3"
  },
  "language_info": {
   "codemirror_mode": {
    "name": "ipython",
    "version": 3
   },
   "file_extension": ".py",
   "mimetype": "text/x-python",
   "name": "python",
   "nbconvert_exporter": "python",
   "pygments_lexer": "ipython3",
   "version": "3.11.7"
  }
 },
 "nbformat": 4,
 "nbformat_minor": 2
}
